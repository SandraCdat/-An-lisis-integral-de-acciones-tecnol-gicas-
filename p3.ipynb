{
 "cells": [
  {
   "cell_type": "code",
   "execution_count": 2,
   "id": "ff17f6bd-5c4d-4d54-9167-639188ca8ed6",
   "metadata": {},
   "outputs": [],
   "source": [
    "import pandas as pd\n",
    "import seaborn as sns\n",
    "import matplotlib.pyplot as plt"
   ]
  },
  {
   "cell_type": "code",
   "execution_count": 3,
   "id": "44a6809c-9c05-4769-8469-0cb80b6fd6c7",
   "metadata": {},
   "outputs": [],
   "source": [
    "df = pd.read_excel(\"C:\\\\Users\\\\LENOVO.USER\\\\Documents\\\\PROYECTO4\\\\data01_P4.xlsx\")"
   ]
  },
  {
   "cell_type": "code",
   "execution_count": 5,
   "id": "1d866933-c442-47a2-8ca8-894835c461a2",
   "metadata": {},
   "outputs": [],
   "source": [
    "# Convertir la columna 'date' a tipo datetime para facilitar el filtrado\n",
    "df['date'] = pd.to_datetime(df['date'])"
   ]
  },
  {
   "cell_type": "code",
   "execution_count": 6,
   "id": "993b694d-9fe1-4237-92b4-ed915ef04fc9",
   "metadata": {},
   "outputs": [],
   "source": [
    "# Definir el rango de fechas\n",
    "start_date = '2012-05-18'\n",
    "end_date = '2022-12-28'"
   ]
  },
  {
   "cell_type": "code",
   "execution_count": 7,
   "id": "99acb5a8-fcc8-4cde-ae8a-428bc945d279",
   "metadata": {},
   "outputs": [],
   "source": [
    "# Filtrar el DataFrame para incluir solo las fechas dentro del rango especificado\n",
    "df = df[(df['date'] >= start_date) & (df['date'] <= end_date)]"
   ]
  },
  {
   "cell_type": "code",
   "execution_count": 8,
   "id": "b6020d15-183f-4ae3-afbf-07b2443d7df8",
   "metadata": {},
   "outputs": [],
   "source": [
    "# Verificar si META tiene datos en los años excluidos\n",
    "meta_years = df[df['stock_symbol'] == 'META']['date'].dt.year.unique()"
   ]
  },
  {
   "cell_type": "code",
   "execution_count": 9,
   "id": "90e6b6c5-67c3-4761-831b-04ff050a391e",
   "metadata": {},
   "outputs": [],
   "source": [
    "# Ahora 'df' contiene datos solo desde el 18 de mayo de 2012 hasta el 28 de diciembre de 2022 y ha excluido años no relevantes para Meta.\n",
    "# Guardar el DataFrame filtrado en un archivo Excel\n",
    "df.to_excel(\"C:\\\\Users\\\\LENOVO.USER\\\\Documents\\\\PROYECTO4\\\\P4_dataset.xlsx\", index=False)"
   ]
  },
  {
   "cell_type": "code",
   "execution_count": 10,
   "id": "b67e8aef-a715-4ffa-83c2-e477fe1a6c0f",
   "metadata": {},
   "outputs": [
    {
     "name": "stdout",
     "output_type": "stream",
     "text": [
      "<class 'pandas.core.frame.DataFrame'>\n",
      "Index: 37394 entries, 599 to 45086\n",
      "Data columns (total 9 columns):\n",
      " #   Column        Non-Null Count  Dtype         \n",
      "---  ------        --------------  -----         \n",
      " 0   stock_symbol  37394 non-null  object        \n",
      " 1   company       37394 non-null  object        \n",
      " 2   date          37394 non-null  datetime64[ns]\n",
      " 3   open          37394 non-null  float64       \n",
      " 4   high          37394 non-null  float64       \n",
      " 5   low           37394 non-null  float64       \n",
      " 6   close         37394 non-null  float64       \n",
      " 7   adj_close     37394 non-null  float64       \n",
      " 8   volume        37394 non-null  int64         \n",
      "dtypes: datetime64[ns](1), float64(5), int64(1), object(2)\n",
      "memory usage: 2.9+ MB\n"
     ]
    }
   ],
   "source": [
    "df.info()"
   ]
  },
  {
   "cell_type": "code",
   "execution_count": 4,
   "id": "b08a9111-d9ac-4061-89fe-035ab1906627",
   "metadata": {},
   "outputs": [],
   "source": [
    "# Guardar el DataFrame en un archivo CSV con punto y coma como delimitador y coma como separador decimal\n",
    "# Esta parte se utilizó porque no reconocía a las comas y al punto y coma <sep=';', float_format=lambda x: f'{x:.4f}'.replace('.', ',')>\n",
    "df.to_csv(\"C:\\\\Users\\\\LENOVO.USER\\\\Documents\\\\PROYECTO4\\\\P4_dataset.csv\", index=False, sep=';', float_format=lambda x: f'{x:.4f}'.replace('.', ','))"
   ]
  },
  {
   "cell_type": "code",
   "execution_count": null,
   "id": "3c18a860-594f-42a9-af25-daa7baeb9025",
   "metadata": {},
   "outputs": [],
   "source": []
  }
 ],
 "metadata": {
  "kernelspec": {
   "display_name": "Python 3 (ipykernel)",
   "language": "python",
   "name": "python3"
  },
  "language_info": {
   "codemirror_mode": {
    "name": "ipython",
    "version": 3
   },
   "file_extension": ".py",
   "mimetype": "text/x-python",
   "name": "python",
   "nbconvert_exporter": "python",
   "pygments_lexer": "ipython3",
   "version": "3.12.4"
  }
 },
 "nbformat": 4,
 "nbformat_minor": 5
}
